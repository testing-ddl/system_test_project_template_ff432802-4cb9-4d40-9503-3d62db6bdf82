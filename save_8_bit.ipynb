{
 "cells": [
  {
   "cell_type": "code",
   "execution_count": null,
   "id": "b0c8076e",
   "metadata": {},
   "outputs": [],
   "source": [
    "import torch\n",
    "import time\n",
    "\n",
    "from transformers import AutoTokenizer, AutoModelForCausalLM, BitsAndBytesConfig\n",
    "\n",
    "model_id = \"tiiuae/falcon-40b\"\n",
    "bnb_config = BitsAndBytesConfig(\n",
    "    load_in_8bit=True,\n",
    ")\n",
    "\n",
    "tokenizer = AutoTokenizer.from_pretrained(model_id)\n",
    "\n",
    "# Falcon requires you to allow remote code execution. This is because the model uses a new architecture that is not part of transformers yet.\n",
    "# The code is provided by the model authors in the repo.\n",
    "\n",
    "model = AutoModelForCausalLM.from_pretrained(model_id, trust_remote_code=True, quantization_config=bnb_config, device_map=\"auto\", cache_dir='/mnt/artifacts/falcon_40b/')"
   ]
  },
  {
   "cell_type": "code",
   "execution_count": null,
   "id": "ead4988e",
   "metadata": {},
   "outputs": [],
   "source": [
    "# save the model locally\n",
    "model.save_pretrained('/mnt/artifacts/falcon_40b_model')"
   ]
  },
  {
   "cell_type": "code",
   "execution_count": null,
   "id": "d9ff8e40",
   "metadata": {},
   "outputs": [],
   "source": [
    "tokenizer.save_pretrained(\"/mnt/artifacts/falcon_40b_model\")"
   ]
  },
  {
   "cell_type": "code",
   "execution_count": null,
   "id": "a91a89fd",
   "metadata": {},
   "outputs": [],
   "source": []
  }
 ],
 "metadata": {
  "kernelspec": {
   "display_name": "Python 3 (ipykernel)",
   "language": "python",
   "name": "python3"
  },
  "language_info": {
   "codemirror_mode": {
    "name": "ipython",
    "version": 3
   },
   "file_extension": ".py",
   "mimetype": "text/x-python",
   "name": "python",
   "nbconvert_exporter": "python",
   "pygments_lexer": "ipython3",
   "version": "3.10.6"
  }
 },
 "nbformat": 4,
 "nbformat_minor": 5
}
